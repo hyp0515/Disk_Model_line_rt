{
 "cells": [
  {
   "cell_type": "code",
   "execution_count": null,
   "id": "b7b7ec80-f50f-4868-8258-b7f01be68d8c",
   "metadata": {},
   "outputs": [],
   "source": [
    "import numpy as np\n",
    "import matplotlib.pyplot as plt\n",
    "import sys\n",
    "sys.path.insert(0,'../../')\n",
    "from radmc.setup import radmc3d_setup\n",
    "from radmc.simulate import generate_simulation\n",
    "from radmc.plot import generate_plot\n",
    "\n",
    "from radmc3dPy.image import *\n",
    "from radmc3dPy.analyze import *\n",
    "from radmc3dPy.data import *"
   ]
  }
 ],
 "metadata": {
  "kernelspec": {
   "display_name": "Python 3 (ipykernel)",
   "language": "python",
   "name": "python3"
  },
  "language_info": {
   "codemirror_mode": {
    "name": "ipython",
    "version": 3
   },
   "file_extension": ".py",
   "mimetype": "text/x-python",
   "name": "python",
   "nbconvert_exporter": "python",
   "pygments_lexer": "ipython3",
   "version": "3.12.8"
  }
 },
 "nbformat": 4,
 "nbformat_minor": 5
}
