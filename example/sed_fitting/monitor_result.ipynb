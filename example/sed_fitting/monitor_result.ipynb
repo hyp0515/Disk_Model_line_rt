{
 "cells": [
  {
   "cell_type": "code",
   "execution_count": 1,
   "metadata": {},
   "outputs": [
    {
     "name": "stdout",
     "output_type": "stream",
     "text": [
      "Fast (Fortran90) Mie-scattering module could not be imported. Falling back to the slower Python version.\n"
     ]
    }
   ],
   "source": [
    "import numpy as np\n",
    "from matplotlib import pyplot as plt\n",
    "import matplotlib as mpl\n",
    "from matplotlib.colors import ListedColormap\n",
    "top = mpl.colormaps['Reds_r'].resampled(128)\n",
    "bottom = mpl.colormaps['Blues'].resampled(128)\n",
    "\n",
    "newcolors = np.vstack((top(np.linspace(0, 1, 128)),\n",
    "                       bottom(np.linspace(0, 1, 128))))\n",
    "residual_cmp = ListedColormap(newcolors, name='RedsBlue')\n",
    "from matplotlib.patches import Ellipse\n",
    "import emcee\n",
    "import corner\n",
    "from radmc3dPy import image\n",
    "import sys\n",
    "sys.path.insert(0,'../../')\n",
    "from X22_model.disk_model import *\n",
    "from CB68.data_dict import data_dict\n",
    "from radmc.setup import *\n",
    "sys.path.insert(0,'../')\n",
    "from fit_with_GIdisk.find_center import find_center\n",
    "from astropy.coordinates import SkyCoord\n",
    "import io\n",
    "import contextlib"
   ]
  },
  {
   "cell_type": "code",
   "execution_count": 2,
   "metadata": {},
   "outputs": [],
   "source": [
    "reader = emcee.backends.HDFBackend(\"progress.h5\")"
   ]
  },
  {
   "cell_type": "markdown",
   "metadata": {},
   "source": [
    "## Chain step "
   ]
  },
  {
   "cell_type": "markdown",
   "metadata": {},
   "source": [
    "## Posterior"
   ]
  },
  {
   "cell_type": "markdown",
   "metadata": {},
   "source": [
    "## Best-fit model from parameters of highest probability"
   ]
  }
 ],
 "metadata": {
  "kernelspec": {
   "display_name": "diskmodel",
   "language": "python",
   "name": "python3"
  },
  "language_info": {
   "codemirror_mode": {
    "name": "ipython",
    "version": 3
   },
   "file_extension": ".py",
   "mimetype": "text/x-python",
   "name": "python",
   "nbconvert_exporter": "python",
   "pygments_lexer": "ipython3",
   "version": "3.12.8"
  }
 },
 "nbformat": 4,
 "nbformat_minor": 2
}
